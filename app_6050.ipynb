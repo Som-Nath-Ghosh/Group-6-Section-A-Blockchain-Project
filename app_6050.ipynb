{
 "cells": [
  {
   "cell_type": "code",
   "execution_count": 4,
   "metadata": {},
   "outputs": [
    {
     "name": "stdout",
     "output_type": "stream",
     "text": [
      " * Serving Flask app \"__main__\" (lazy loading)\n",
      " * Environment: production\n",
      "   WARNING: This is a development server. Do not use it in a production deployment.\n",
      "   Use a production WSGI server instead.\n",
      " * Debug mode: off\n"
     ]
    },
    {
     "name": "stderr",
     "output_type": "stream",
     "text": [
      " * Running on http://127.0.0.1:6050/ (Press CTRL+C to quit)\n",
      "127.0.0.1 - - [29/Nov/2021 14:19:31] \"\u001b[37mGET /blockchain HTTP/1.1\u001b[0m\" 200 -\n",
      "127.0.0.1 - - [29/Nov/2021 14:43:58] \"\u001b[31m\u001b[1mPOST /blockchain HTTP/1.1\u001b[0m\" 405 -\n",
      "127.0.0.1 - - [29/Nov/2021 14:44:06] \"\u001b[37mGET /blockchain HTTP/1.1\u001b[0m\" 200 -\n",
      "127.0.0.1 - - [29/Nov/2021 14:59:00] \"\u001b[37mGET /blockchain HTTP/1.1\u001b[0m\" 200 -\n",
      "127.0.0.1 - - [29/Nov/2021 14:59:56] \"\u001b[37mPOST /bet/broadcast HTTP/1.1\u001b[0m\" 200 -\n",
      "127.0.0.1 - - [29/Nov/2021 15:00:11] \"\u001b[37mGET /blockchain HTTP/1.1\u001b[0m\" 200 -\n",
      "127.0.0.1 - - [29/Nov/2021 15:00:47] \"\u001b[37mGET /mine HTTP/1.1\u001b[0m\" 200 -\n",
      "127.0.0.1 - - [29/Nov/2021 15:00:56] \"\u001b[37mGET /blockchain HTTP/1.1\u001b[0m\" 200 -\n",
      "127.0.0.1 - - [29/Nov/2021 15:01:40] \"\u001b[37mPOST /register-and-broadcast-node HTTP/1.1\u001b[0m\" 200 -\n",
      "127.0.0.1 - - [29/Nov/2021 15:02:12] \"\u001b[37mGET /blockchain HTTP/1.1\u001b[0m\" 200 -\n"
     ]
    }
   ],
   "source": [
    "import sys\n",
    "import requests\n",
    "import json\n",
    "from flask import Flask, request, Response\n",
    "from flask_cors import CORS\n",
    "from blockchain import Blockchain\n",
    "\n",
    "app = Flask(__name__)\n",
    "CORS(app)   \n",
    "\n",
    "#app_port = sys.argv[0]\n",
    "current_node_url = \"http://localhost:6050\"\n",
    "b = Blockchain(current_node_url)\n",
    "\n",
    "@app.route('/blockchain')\n",
    "def get_blockchain():\n",
    "    return Response(b.get_blockchain(), status=200, content_type=\"application/json\")\n",
    "\n",
    "@app.route('/bet', methods=['POST'])\n",
    "def register_bet():\n",
    "    payload = request.get_json(force=True)\n",
    "    b.register_bet(payload[\"playername\"].lower(), payload[\"matchid\"], payload[\"teamonescore\"], payload[\"teamtwoscore\"])\n",
    "    return \"Bet created and broadcast successfully.\"\n",
    "\n",
    "@app.route('/bet/broadcast', methods=['POST'])\n",
    "def register_and_broadcast_bet():\n",
    "    payload = request.get_json(force=True)\n",
    "    b.register_bet(payload[\"playername\"].lower(), payload[\"matchid\"], payload[\"teamonescore\"], payload[\"teamtwoscore\"])    \n",
    "    network_nodes = b.obj[\"network_nodes\"]\n",
    "    # send new node to all other nodes\n",
    "    for i in range(len(network_nodes)):\n",
    "        network_node = network_nodes[i]\n",
    "        payload_to_post = json.dumps(payload)\n",
    "        requests.post(network_node+\"/bet\", data=payload_to_post)\n",
    "\n",
    "    return \"Bet created and broadcast successfully.\"\n",
    "\n",
    "\n",
    "@app.route('/receive-new-block', methods=['POST'])\n",
    "def receive_new_block():\n",
    "    payload = request.get_json(force=True)\n",
    "    new_block = payload[\"new_block\"]\n",
    "    result = b.receive_new_block(new_block)\n",
    "    if result:\n",
    "        return \"New block received and accepted.\"\n",
    "    return \"New block rejected.\"\n",
    "\n",
    "@app.route('/mine')\n",
    "def mine():\n",
    "    new_block = b.mine()\n",
    "    network_nodes = b.obj[\"network_nodes\"]\n",
    "    # send new node to all other nodes\n",
    "    for i in range(len(network_nodes)):\n",
    "        network_node = network_nodes[i]\n",
    "        payload_to_post = json.dumps({\"new_block\": new_block})\n",
    "        requests.post(network_node+\"/receive-new-block\", data=payload_to_post)\n",
    "\n",
    "    return \"New block mined and broadcast successfully.\"\n",
    "\n",
    "@app.route('/register-node', methods=['POST'])\n",
    "def register_node():\n",
    "    payload = request.get_json(force=True)\n",
    "    b.register_new_node(payload[\"newnodeurl\"])\n",
    "    return \"New node registered successfully successfully.\"\n",
    "\n",
    "@app.route('/register-and-broadcast-node', methods=['POST'])\n",
    "def register_and_broadcast_node():\n",
    "    payload = request.get_json(force=True)\n",
    "    new_node_url = payload[\"newnodeurl\"]\n",
    "    network_nodes = b.register_new_node(new_node_url)\n",
    "\n",
    "    # send new node to all other nodes\n",
    "    for i in range(len(network_nodes)):\n",
    "        network_node = network_nodes[i]\n",
    "        payload_to_post = json.dumps({ \"newnodeurl\": new_node_url })\n",
    "        requests.post(network_node+\"/register-node\", data=payload_to_post)\n",
    "    \n",
    "    # send all nodes to new node\n",
    "    payload_to_post = json.dumps({ \"all_network_nodes\": network_nodes + [current_node_url] })\n",
    "    requests.post(new_node_url+\"/register-nodes-bulk\", data=payload_to_post)\n",
    "\n",
    "    return \"New node registered successfully successfully.\"\n",
    "\n",
    "@app.route('/register-nodes-bulk', methods=['POST'])\n",
    "def register_nodes_bulk():\n",
    "    request_payload = request.get_json(force=True)\n",
    "    all_network_nodes = request_payload[\"all_network_nodes\"]\n",
    "    print(request_payload)\n",
    "    for i in range(len(all_network_nodes)):\n",
    "        network_node = all_network_nodes[i]\n",
    "        b.register_new_node(network_node)\n",
    "\n",
    "    return \"Bulk registration successful.\"\n",
    "\n",
    "@app.route('/consensus')\n",
    "def consensus():\n",
    "    network_nodes = b.obj[\"network_nodes\"]\n",
    "    largest_chain = b.obj[\"chain\"]\n",
    "    chain_changed = False\n",
    "    pending_bets = []\n",
    "    # get longest chain\n",
    "    for i in range(len(network_nodes)):\n",
    "        network_node = network_nodes[i]\n",
    "        resp = requests.get(network_node+\"/blockchain\")\n",
    "        blockchain = resp.json()\n",
    "        if len(largest_chain) < len(blockchain[\"chain\"]):\n",
    "            chain_changed = True\n",
    "            largest_chain = blockchain[\"chain\"]\n",
    "            pending_bets = blockchain[\"pending_bets\"]\n",
    "    \n",
    "    if not chain_changed or len(largest_chain) == 0 or not b.chain_is_valid(largest_chain):\n",
    "        return \"Current chain has not been replaced.\"\n",
    "\n",
    "    b.obj[\"chain\"] = largest_chain\n",
    "    b.obj[\"pending_bets\"] = pending_bets\n",
    "    return \"This chain has been replaced.\"\n",
    "\n",
    "@app.route('/match/<match_id>')\n",
    "def get_gets_for_match(match_id):\n",
    "    bets = json.dumps(b.get_bets(\"match_id\", match_id))\n",
    "    return Response(bets, status=200, content_type=\"application/json\")\n",
    "\n",
    "\n",
    "@app.route('/player/<player_name>')\n",
    "def get_gets_for_player(player_name):\n",
    "    bets = json.dumps(b.get_bets(\"player\", player_name.lower()))\n",
    "    return Response(bets, status=200, content_type=\"application/json\")\n",
    "\n",
    "\n",
    "if __name__ == '__main__':   \n",
    "    app.run(port=6050)"
   ]
  },
  {
   "cell_type": "code",
   "execution_count": 2,
   "metadata": {},
   "outputs": [
    {
     "name": "stdout",
     "output_type": "stream",
     "text": [
      "Collecting flask_cors\n",
      "  Downloading Flask_Cors-3.0.10-py2.py3-none-any.whl (14 kB)\n",
      "Requirement already satisfied: Flask>=0.9 in c:\\users\\som\\anaconda3\\lib\\site-packages (from flask_cors) (1.1.2)\n",
      "Requirement already satisfied: Six in c:\\users\\som\\anaconda3\\lib\\site-packages (from flask_cors) (1.15.0)\n",
      "Requirement already satisfied: Jinja2>=2.10.1 in c:\\users\\som\\anaconda3\\lib\\site-packages (from Flask>=0.9->flask_cors) (2.11.2)\n",
      "Requirement already satisfied: Werkzeug>=0.15 in c:\\users\\som\\anaconda3\\lib\\site-packages (from Flask>=0.9->flask_cors) (1.0.1)\n",
      "Requirement already satisfied: click>=5.1 in c:\\users\\som\\anaconda3\\lib\\site-packages (from Flask>=0.9->flask_cors) (7.1.2)\n",
      "Requirement already satisfied: itsdangerous>=0.24 in c:\\users\\som\\anaconda3\\lib\\site-packages (from Flask>=0.9->flask_cors) (1.1.0)\n",
      "Requirement already satisfied: MarkupSafe>=0.23 in c:\\users\\som\\anaconda3\\lib\\site-packages (from Jinja2>=2.10.1->Flask>=0.9->flask_cors) (1.1.1)\n",
      "Installing collected packages: flask-cors\n",
      "Successfully installed flask-cors-3.0.10\n"
     ]
    }
   ],
   "source": [
    "!pip install flask_cors"
   ]
  },
  {
   "cell_type": "code",
   "execution_count": 14,
   "metadata": {},
   "outputs": [
    {
     "data": {
      "text/plain": [
       "['C:\\\\Users\\\\Som\\\\anaconda3\\\\lib\\\\site-packages\\\\ipykernel_launcher.py',\n",
       " '-f',\n",
       " 'C:\\\\Users\\\\Som\\\\AppData\\\\Roaming\\\\jupyter\\\\runtime\\\\kernel-0061920a-68c4-45f5-8441-5311709550d1.json']"
      ]
     },
     "execution_count": 14,
     "metadata": {},
     "output_type": "execute_result"
    }
   ],
   "source": [
    "sys.argv"
   ]
  },
  {
   "cell_type": "code",
   "execution_count": null,
   "metadata": {},
   "outputs": [],
   "source": []
  }
 ],
 "metadata": {
  "kernelspec": {
   "display_name": "Python 3",
   "language": "python",
   "name": "python3"
  },
  "language_info": {
   "codemirror_mode": {
    "name": "ipython",
    "version": 3
   },
   "file_extension": ".py",
   "mimetype": "text/x-python",
   "name": "python",
   "nbconvert_exporter": "python",
   "pygments_lexer": "ipython3",
   "version": "3.8.5"
  }
 },
 "nbformat": 4,
 "nbformat_minor": 4
}
